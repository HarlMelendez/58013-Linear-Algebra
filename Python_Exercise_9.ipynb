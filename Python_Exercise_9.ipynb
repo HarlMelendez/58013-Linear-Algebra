{
  "nbformat": 4,
  "nbformat_minor": 0,
  "metadata": {
    "colab": {
      "provenance": [],
      "authorship_tag": "ABX9TyPKRPvNz91vrtosNWdzgqIe",
      "include_colab_link": true
    },
    "kernelspec": {
      "name": "python3",
      "display_name": "Python 3"
    },
    "language_info": {
      "name": "python"
    }
  },
  "cells": [
    {
      "cell_type": "markdown",
      "metadata": {
        "id": "view-in-github",
        "colab_type": "text"
      },
      "source": [
        "<a href=\"https://colab.research.google.com/github/HarlMelendez/58013-Linear-Algebra/blob/main/Python_Exercise_9.ipynb\" target=\"_parent\"><img src=\"https://colab.research.google.com/assets/colab-badge.svg\" alt=\"Open In Colab\"/></a>"
      ]
    },
    {
      "cell_type": "code",
      "execution_count": null,
      "metadata": {
        "id": "GoU0BkN5muXt"
      },
      "outputs": [],
      "source": [
        "import numpy as np\n",
        "import matplotlib.pyplot as plt\n",
        "%matplotlib inline\n",
        "\n",
        "A = np.array([\n",
        "    [1,4],\n",
        "    [0,3]\n",
        "])\n",
        "np.linalg.det(A)"
      ]
    },
    {
      "cell_type": "code",
      "source": [
        "B = np.array([\n",
        "    [1,3,5,6],\n",
        "    [0,3,1,3],\n",
        "    [3,1,8,2],\n",
        "    [5,2,6,8]\n",
        "])\n",
        "np.linalg.det(B)"
      ],
      "metadata": {
        "id": "DacKPEOSmxOR"
      },
      "execution_count": null,
      "outputs": []
    },
    {
      "cell_type": "markdown",
      "source": [
        "Associative"
      ],
      "metadata": {
        "id": "J91W7JFVot8q"
      }
    },
    {
      "cell_type": "code",
      "source": [
        "import numpy as np\n",
        "\n",
        "A = np.array([[1, 2, 3],\n",
        "              [9, 8, 7],\n",
        "              [5, 6, 4]])\n",
        "\n",
        "B = np.array([[9, 8, 7],\n",
        "              [5, 6, 4],\n",
        "              [1, 2, 3]])\n",
        "\n",
        "C = np.array([[5, 6, 4],\n",
        "              [1, 2, 3],\n",
        "              [9, 8, 7]])\n",
        "\n",
        "Asso1 = np.dot(np.dot(A, B), C)\n",
        "\n",
        "Asso2 = np.dot(A, np.dot(B, C))\n",
        "\n",
        "print(\"(A * B) * C =\")\n",
        "print(Asso1)\n",
        "print(\"A * (B * C) =\")\n",
        "print(Asso2)\n",
        "\n",
        "are_equal = np.array_equal(Asso1, Asso2)\n",
        "print(\"\\nAre the two sides equal? {}\".format(are_equal))"
      ],
      "metadata": {
        "colab": {
          "base_uri": "https://localhost:8080/"
        },
        "id": "xzswdC0omzXu",
        "outputId": "f64950f2-6b77-4be4-d183-ef8fe8ce2172"
      },
      "execution_count": 12,
      "outputs": [
        {
          "output_type": "stream",
          "name": "stdout",
          "text": [
            "(A * B) * C =\n",
            "[[ 352  376  334]\n",
            " [1818 1964 1726]\n",
            " [1118 1210 1065]]\n",
            "A * (B * C) =\n",
            "[[ 352  376  334]\n",
            " [1818 1964 1726]\n",
            " [1118 1210 1065]]\n",
            "\n",
            "Are the two sides equal? True\n"
          ]
        }
      ]
    },
    {
      "cell_type": "markdown",
      "source": [
        "Distributive"
      ],
      "metadata": {
        "id": "ZhfmuBZxoysJ"
      }
    },
    {
      "cell_type": "code",
      "source": [
        "import numpy as np\n",
        "\n",
        "A = np.array([[1, 2, 3],\n",
        "              [4, 5, 6],\n",
        "              [7, 8, 9]])\n",
        "\n",
        "B = np.array([[9, 8, 7],\n",
        "              [6, 5, 4],\n",
        "              [3, 2, 1]])\n",
        "\n",
        "C = np.array([[5, 4, 6],\n",
        "              [2, 3, 1],\n",
        "              [7, 8, 9]])\n",
        "dis1 = np.dot(A, B + C)\n",
        "dis2 = np.dot(A, B) + np.dot(A, C)\n",
        "\n",
        "print(\"\\n(A * (B + C)):\")\n",
        "print(dis1)\n",
        "print(\"\\n(A * B) + (A * C):\")\n",
        "print(dis2)\n",
        "\n",
        "are_equal_distributive = np.array_equal(dis1, dis2)\n",
        "print(\"\\nAre the two sides equal? {}\".format(are_equal_distributive))\n"
      ],
      "metadata": {
        "colab": {
          "base_uri": "https://localhost:8080/"
        },
        "id": "SVyXHve_m2ym",
        "outputId": "a0070c7c-1b5f-4056-c09b-ea0ff7b13633"
      },
      "execution_count": 11,
      "outputs": [
        {
          "output_type": "stream",
          "name": "stdout",
          "text": [
            "\n",
            "(A * (B + C)):\n",
            "[[ 60  58  53]\n",
            " [156 148 137]\n",
            " [252 238 221]]\n",
            "\n",
            "(A * B) + (A * C):\n",
            "[[ 60  58  53]\n",
            " [156 148 137]\n",
            " [252 238 221]]\n",
            "\n",
            "Are the two sides equal? True\n"
          ]
        }
      ]
    },
    {
      "cell_type": "markdown",
      "source": [
        "Identity"
      ],
      "metadata": {
        "id": "Xn4rr3ywozpy"
      }
    },
    {
      "cell_type": "code",
      "source": [
        "import numpy as np\n",
        "\n",
        "A = np.array([[1, 2, 3],\n",
        "              [4, 5, 6],\n",
        "              [7, 8, 9]])\n",
        "\n",
        "B = np.array([[9, 8, 7],\n",
        "              [6, 5, 4],\n",
        "              [3, 2, 1]])\n",
        "\n",
        "C = np.array([[5, 4, 6],\n",
        "              [2, 3, 1],\n",
        "              [7, 8, 9]])\n",
        "\n",
        "I = np.eye(3)\n",
        "\n",
        "result1 = np.dot(A, I)\n",
        "result2 = np.dot(I, A)\n",
        "\n",
        "print(\"\\nA * I:\")\n",
        "print(result1)\n",
        "print(\"\\nI * A:\")\n",
        "print(result2)\n",
        "\n",
        "are_equal_identity = np.array_equal(result1, A) and np.array_equal(result2, A)\n",
        "print(\"\\nAre the results equal to A? {}\".format(are_equal_identity))"
      ],
      "metadata": {
        "colab": {
          "base_uri": "https://localhost:8080/"
        },
        "id": "b5EAPlDIncZk",
        "outputId": "57c95131-54a5-48dc-b995-c227602c2dbb"
      },
      "execution_count": 9,
      "outputs": [
        {
          "output_type": "stream",
          "name": "stdout",
          "text": [
            "\n",
            "A * I:\n",
            "[[1. 2. 3.]\n",
            " [4. 5. 6.]\n",
            " [7. 8. 9.]]\n",
            "\n",
            "I * A:\n",
            "[[1. 2. 3.]\n",
            " [4. 5. 6.]\n",
            " [7. 8. 9.]]\n",
            "\n",
            "Are the results equal to A? True\n"
          ]
        }
      ]
    },
    {
      "cell_type": "markdown",
      "source": [
        "Zero"
      ],
      "metadata": {
        "id": "1QcSzBqapPmt"
      }
    },
    {
      "cell_type": "code",
      "source": [],
      "metadata": {
        "colab": {
          "base_uri": "https://localhost:8080/"
        },
        "id": "NKUsfh7qoHLf",
        "outputId": "599daf49-cbad-488f-ad82-3ab678f1cae0"
      },
      "execution_count": 22,
      "outputs": [
        {
          "output_type": "stream",
          "name": "stdout",
          "text": [
            "\n",
            "A * 0:\n",
            "[[0 0 0]\n",
            " [0 0 0]\n",
            " [0 0 0]]\n",
            "\n",
            "Is the result equal to the zero matrix? True\n"
          ]
        }
      ]
    },
    {
      "cell_type": "markdown",
      "source": [
        "Scalar"
      ],
      "metadata": {
        "id": "Gd7_aJeipgvp"
      }
    },
    {
      "cell_type": "code",
      "source": [
        "import numpy as np\n",
        "\n",
        "A = np.array([[1, 2, 3],\n",
        "              [4, 5, 6],\n",
        "              [7, 8, 9]])\n",
        "\n",
        "k = 2\n",
        "\n",
        "result_scalar_property = k * A\n",
        "\n",
        "print(\"\\nk * A:\")\n",
        "print(result_scalar_property)\n"
      ],
      "metadata": {
        "colab": {
          "base_uri": "https://localhost:8080/"
        },
        "id": "qJr0PKunpgXd",
        "outputId": "4bac55d5-8235-45ec-cb62-f59ba9fa7682"
      },
      "execution_count": 25,
      "outputs": [
        {
          "output_type": "stream",
          "name": "stdout",
          "text": [
            "\n",
            "k * A:\n",
            "[[ 2  4  6]\n",
            " [ 8 10 12]\n",
            " [14 16 18]]\n"
          ]
        }
      ]
    },
    {
      "cell_type": "markdown",
      "source": [
        "Closure"
      ],
      "metadata": {
        "id": "x7eEIS2SrpX4"
      }
    },
    {
      "cell_type": "code",
      "source": [
        "import numpy as np\n",
        "\n",
        "A = np.array([[1, 2, 3], [4, 5, 6], [7, 8, 9]])\n",
        "B = np.array([[9, 8, 7], [6, 5, 4], [3, 2, 1]])\n",
        "\n",
        "AB = np.dot(A, B)\n",
        "\n",
        "print(\"\\nMatrix AB (A * B):\\n\", AB)"
      ],
      "metadata": {
        "colab": {
          "base_uri": "https://localhost:8080/"
        },
        "id": "wc5EolYrp-Py",
        "outputId": "41adcc15-2aad-4e0e-c890-e22966cff7b3"
      },
      "execution_count": 29,
      "outputs": [
        {
          "output_type": "stream",
          "name": "stdout",
          "text": [
            "\n",
            "Matrix AB (A * B):\n",
            " [[ 30  24  18]\n",
            " [ 84  69  54]\n",
            " [138 114  90]]\n"
          ]
        }
      ]
    }
  ]
}