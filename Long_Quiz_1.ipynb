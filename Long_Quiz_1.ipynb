{
  "nbformat": 4,
  "nbformat_minor": 0,
  "metadata": {
    "colab": {
      "provenance": [],
      "authorship_tag": "ABX9TyMbtuUhPQGrvbMEOttj3MBb",
      "include_colab_link": true
    },
    "kernelspec": {
      "name": "python3",
      "display_name": "Python 3"
    },
    "language_info": {
      "name": "python"
    }
  },
  "cells": [
    {
      "cell_type": "markdown",
      "metadata": {
        "id": "view-in-github",
        "colab_type": "text"
      },
      "source": [
        "<a href=\"https://colab.research.google.com/github/HarlMelendez/58013-Linear-Algebra/blob/main/Long_Quiz_1.ipynb\" target=\"_parent\"><img src=\"https://colab.research.google.com/assets/colab-badge.svg\" alt=\"Open In Colab\"/></a>"
      ]
    },
    {
      "cell_type": "markdown",
      "source": [
        "Problem 1"
      ],
      "metadata": {
        "id": "2XeXZprJmrp1"
      }
    },
    {
      "cell_type": "code",
      "source": [
        "import numpy as np\n",
        "\n",
        "A = np.array([[1, 2, 3], [4, 5, 6]])\n",
        "B = np.array([[1,2],[3,4],[5,6]])\n",
        "C = np.array([[1,2,3],[4,5,6],[7,8,9]])\n",
        "D = np.array([[1,2],[3,4]])\n",
        "\n",
        "A = np.dot(A, B)\n",
        "B = np.add(D, D)\n",
        "C = 2 * C\n",
        "D = (\"?\")\n",
        "\n",
        "print(\"A.) AB = \\n\", A)\n",
        "print(end= '')\n",
        "\n",
        "print(\"\\nB.) D+D = \\n\", B)\n",
        "print(end= '')\n",
        "\n",
        "print(\"\\nC.) 2C = \\n\", C)\n",
        "print(end=\" \")\n",
        "\n",
        "print(\"\\nD.) N/A =\", D)"
      ],
      "metadata": {
        "colab": {
          "base_uri": "https://localhost:8080/"
        },
        "id": "_NcCc15cmvs4",
        "outputId": "00bd387f-b4e8-4c44-cd6e-bf8104facb9a"
      },
      "execution_count": 41,
      "outputs": [
        {
          "output_type": "stream",
          "name": "stdout",
          "text": [
            "A.) AB = \n",
            " [[22 28]\n",
            " [49 64]]\n",
            "\n",
            "B.) D+D = \n",
            " [[2 4]\n",
            " [6 8]]\n",
            "\n",
            "C.) 2C = \n",
            " [[ 2  4  6]\n",
            " [ 8 10 12]\n",
            " [14 16 18]]\n",
            " \n",
            "D.) N/A = ?\n"
          ]
        }
      ]
    },
    {
      "cell_type": "markdown",
      "source": [
        "Problem 2"
      ],
      "metadata": {
        "id": "9kF4wKttx_-S"
      }
    },
    {
      "cell_type": "code",
      "execution_count": 42,
      "metadata": {
        "colab": {
          "base_uri": "https://localhost:8080/"
        },
        "id": "rD8HbXgHi7x2",
        "outputId": "602098ca-d509-4dd5-b9d6-4f8e2291b49a"
      },
      "outputs": [
        {
          "output_type": "stream",
          "name": "stdout",
          "text": [
            "Final Answer: [20, -4, -3]\n"
          ]
        }
      ],
      "source": [
        "import numpy as np\n",
        "\n",
        "A = np.array([2, 7, 4])\n",
        "B = np.array([3, 9, 8])\n",
        "\n",
        "Solution = [(A[1]*B[2])-(A[2]*B[1]), (A[2]*B[0])-(A[0]*B[2]),(A[0]*B[1])-(A[1]*B[0])]\n",
        "\n",
        "print(\"Final Answer:\", Solution)"
      ]
    }
  ]
}