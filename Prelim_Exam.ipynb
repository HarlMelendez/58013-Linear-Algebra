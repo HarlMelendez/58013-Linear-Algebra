{
  "nbformat": 4,
  "nbformat_minor": 0,
  "metadata": {
    "colab": {
      "provenance": [],
      "authorship_tag": "ABX9TyOZkEkoXfbxoteYq2KXN2yl",
      "include_colab_link": true
    },
    "kernelspec": {
      "name": "python3",
      "display_name": "Python 3"
    },
    "language_info": {
      "name": "python"
    }
  },
  "cells": [
    {
      "cell_type": "markdown",
      "metadata": {
        "id": "view-in-github",
        "colab_type": "text"
      },
      "source": [
        "<a href=\"https://colab.research.google.com/github/HarlMelendez/58013-Linear-Algebra/blob/main/Prelim_Exam.ipynb\" target=\"_parent\"><img src=\"https://colab.research.google.com/assets/colab-badge.svg\" alt=\"Open In Colab\"/></a>"
      ]
    },
    {
      "cell_type": "markdown",
      "source": [
        "Create a Multiplication Table/Chart of 1 to 10 using numpy/ python program."
      ],
      "metadata": {
        "id": "4Qii9ofn3IBb"
      }
    },
    {
      "cell_type": "code",
      "source": [
        "import numpy as np\n",
        "\n",
        "numbers = np.arange(1, 11)\n",
        "\n",
        "multiplication_table = np.multiply.outer(numbers, numbers)\n",
        "\n",
        "for row in multiplication_table:\n",
        "    print(row)\n"
      ],
      "metadata": {
        "colab": {
          "base_uri": "https://localhost:8080/"
        },
        "id": "KOlJ6t30zbql",
        "outputId": "20f8d74f-ace7-4c74-d44f-b0717f914160"
      },
      "execution_count": 13,
      "outputs": [
        {
          "output_type": "stream",
          "name": "stdout",
          "text": [
            "[ 1  2  3  4  5  6  7  8  9 10]\n",
            "[ 2  4  6  8 10 12 14 16 18 20]\n",
            "[ 3  6  9 12 15 18 21 24 27 30]\n",
            "[ 4  8 12 16 20 24 28 32 36 40]\n",
            "[ 5 10 15 20 25 30 35 40 45 50]\n",
            "[ 6 12 18 24 30 36 42 48 54 60]\n",
            "[ 7 14 21 28 35 42 49 56 63 70]\n",
            "[ 8 16 24 32 40 48 56 64 72 80]\n",
            "[ 9 18 27 36 45 54 63 72 81 90]\n",
            "[ 10  20  30  40  50  60  70  80  90 100]\n"
          ]
        }
      ]
    },
    {
      "cell_type": "markdown",
      "source": [
        "In relation to Question 1, show a solution that doubles all the values of each element."
      ],
      "metadata": {
        "id": "A23m_FX03mS2"
      }
    },
    {
      "cell_type": "code",
      "source": [
        "import numpy as np\n",
        "\n",
        "numbers = np.arange(1, 11)\n",
        "\n",
        "multiplication_table = np.multiply.outer(numbers, numbers)\n",
        "\n",
        "doubled_table = multiplication_table * 2\n",
        "\n",
        "for row in doubled_table:\n",
        "    print(row)\n"
      ],
      "metadata": {
        "colab": {
          "base_uri": "https://localhost:8080/"
        },
        "id": "g_ZNcml62fbl",
        "outputId": "e6bb9357-cf7d-4cda-9129-38a0c7aeb606"
      },
      "execution_count": 21,
      "outputs": [
        {
          "output_type": "stream",
          "name": "stdout",
          "text": [
            "[ 2  4  6  8 10 12 14 16 18 20]\n",
            "[ 4  8 12 16 20 24 28 32 36 40]\n",
            "[ 6 12 18 24 30 36 42 48 54 60]\n",
            "[ 8 16 24 32 40 48 56 64 72 80]\n",
            "[ 10  20  30  40  50  60  70  80  90 100]\n",
            "[ 12  24  36  48  60  72  84  96 108 120]\n",
            "[ 14  28  42  56  70  84  98 112 126 140]\n",
            "[ 16  32  48  64  80  96 112 128 144 160]\n",
            "[ 18  36  54  72  90 108 126 144 162 180]\n",
            "[ 20  40  60  80 100 120 140 160 180 200]\n"
          ]
        }
      ]
    },
    {
      "cell_type": "markdown",
      "source": [
        "Create a square matrix that has a diagonal 1's"
      ],
      "metadata": {
        "id": "ULH0BXqI208j"
      }
    },
    {
      "cell_type": "code",
      "source": [
        "import numpy as np\n",
        "\n",
        "n = 10\n",
        "\n",
        "matrix = np.eye(n)\n",
        "\n",
        "print(matrix)\n"
      ],
      "metadata": {
        "colab": {
          "base_uri": "https://localhost:8080/"
        },
        "id": "dIVChMFG2wWD",
        "outputId": "99f216bc-a447-4050-d7f9-33bf232ef444"
      },
      "execution_count": 22,
      "outputs": [
        {
          "output_type": "stream",
          "name": "stdout",
          "text": [
            "[[1. 0. 0. 0. 0. 0. 0. 0. 0. 0.]\n",
            " [0. 1. 0. 0. 0. 0. 0. 0. 0. 0.]\n",
            " [0. 0. 1. 0. 0. 0. 0. 0. 0. 0.]\n",
            " [0. 0. 0. 1. 0. 0. 0. 0. 0. 0.]\n",
            " [0. 0. 0. 0. 1. 0. 0. 0. 0. 0.]\n",
            " [0. 0. 0. 0. 0. 1. 0. 0. 0. 0.]\n",
            " [0. 0. 0. 0. 0. 0. 1. 0. 0. 0.]\n",
            " [0. 0. 0. 0. 0. 0. 0. 1. 0. 0.]\n",
            " [0. 0. 0. 0. 0. 0. 0. 0. 1. 0.]\n",
            " [0. 0. 0. 0. 0. 0. 0. 0. 0. 1.]]\n"
          ]
        }
      ]
    },
    {
      "cell_type": "markdown",
      "source": [
        "Create a matrix whose elements are:\n",
        "\n",
        "Type a python program that can view the size, shape, and dimension of the matrix above."
      ],
      "metadata": {
        "id": "aiNx9NEs4Mfs"
      }
    },
    {
      "cell_type": "code",
      "source": [
        "import numpy as np\n",
        "\n",
        "matrix = np.array([[1, 2, 3, 4],\n",
        "                   [5, 6, 7, 8],\n",
        "                   [9, 10, 11, 12]])\n",
        "\n",
        "size = matrix.size\n",
        "\n",
        "shape = matrix.shape\n",
        "\n",
        "dimensions = matrix.ndim\n",
        "\n",
        "print(\"Size:\", size)\n",
        "print(\"\\nShape:\", shape)\n",
        "print(\"\\ndimension:\", dimensions)\n"
      ],
      "metadata": {
        "colab": {
          "base_uri": "https://localhost:8080/"
        },
        "id": "juBPGT6d4Nos",
        "outputId": "e55ad809-37a7-4b89-a0cc-66b8b37a0b5d"
      },
      "execution_count": 24,
      "outputs": [
        {
          "output_type": "stream",
          "name": "stdout",
          "text": [
            "Size: 12\n",
            "\n",
            "Shape: (3, 4)\n",
            "\n",
            "dimension: 2\n"
          ]
        }
      ]
    },
    {
      "cell_type": "markdown",
      "source": [
        "Create a result array by adding the following two NumPy arrays. Next, modify the result array by calculating the square of each element."
      ],
      "metadata": {
        "id": "K9lu3JXE8iQg"
      }
    },
    {
      "cell_type": "code",
      "source": [
        "import numpy as np\n",
        "\n",
        "arrayOne = np.array([[5, 6, 9], [21, 18, 27]])\n",
        "arrayTwo = np.array([[15, 33, 24], [4, 7, 1]])\n",
        "\n",
        "sum = np.add(arrayOne, arrayTwo)\n",
        "\n",
        "Squared = np.square(sum)\n",
        "\n",
        "print(\"Result:\")\n",
        "print(sum)\n",
        "\n",
        "print(\"\\nSquared:\")\n",
        "print(Squared)\n"
      ],
      "metadata": {
        "colab": {
          "base_uri": "https://localhost:8080/"
        },
        "id": "ZD-Z3pOr6BqF",
        "outputId": "71e44b17-2fa4-4120-fa0a-dcee788cb00d"
      },
      "execution_count": 5,
      "outputs": [
        {
          "output_type": "stream",
          "name": "stdout",
          "text": [
            "Result:\n",
            "[[20 39 33]\n",
            " [25 25 28]]\n",
            "\n",
            "Squared:\n",
            "[[ 400 1521 1089]\n",
            " [ 625  625  784]]\n"
          ]
        }
      ]
    }
  ]
}