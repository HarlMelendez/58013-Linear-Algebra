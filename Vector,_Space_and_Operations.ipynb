{
  "nbformat": 4,
  "nbformat_minor": 0,
  "metadata": {
    "colab": {
      "provenance": [],
      "authorship_tag": "ABX9TyMDcX+cyv/I1W2S5P4wAVCc",
      "include_colab_link": true
    },
    "kernelspec": {
      "name": "python3",
      "display_name": "Python 3"
    },
    "language_info": {
      "name": "python"
    }
  },
  "cells": [
    {
      "cell_type": "markdown",
      "metadata": {
        "id": "view-in-github",
        "colab_type": "text"
      },
      "source": [
        "<a href=\"https://colab.research.google.com/github/HarlMelendez/58013-Linear-Algebra/blob/main/Vector%2C_Space_and_Operations.ipynb\" target=\"_parent\"><img src=\"https://colab.research.google.com/assets/colab-badge.svg\" alt=\"Open In Colab\"/></a>"
      ]
    },
    {
      "cell_type": "markdown",
      "source": [
        "NumPy; Vectors and Operations"
      ],
      "metadata": {
        "id": "Kxx6yzZg210P"
      }
    },
    {
      "cell_type": "code",
      "source": [
        "import numpy as np #np here is a variable name\n",
        "\n",
        "A = np.array([4,3]) #A here represents 1 matrix\n",
        "B = np.array([2, -5])\n",
        "\n",
        "print('Vector A is ', A)\n",
        "print('Vector B is ', B)"
      ],
      "metadata": {
        "colab": {
          "base_uri": "https://localhost:8080/"
        },
        "id": "5ySQ6JIP2V_m",
        "outputId": "53b7a73b-fb02-4a94-eb5f-c1c2fcccd8d5"
      },
      "execution_count": 1,
      "outputs": [
        {
          "output_type": "stream",
          "name": "stdout",
          "text": [
            "Vector A is  [4 3]\n",
            "Vector B is  [ 2 -5]\n"
          ]
        }
      ]
    },
    {
      "cell_type": "markdown",
      "source": [
        "Size Dimention, Size\n"
      ],
      "metadata": {
        "id": "fotsqUNW26Mw"
      }
    },
    {
      "cell_type": "code",
      "execution_count": 2,
      "metadata": {
        "colab": {
          "base_uri": "https://localhost:8080/"
        },
        "id": "_ajXC6UuwaPt",
        "outputId": "26096a12-efe1-499e-8d7c-0c6ac5ee9f7f"
      },
      "outputs": [
        {
          "output_type": "stream",
          "name": "stdout",
          "text": [
            "[[1]\n",
            " [2]\n",
            " [3]]\n"
          ]
        }
      ],
      "source": [
        "#Column\n",
        "import numpy as np\n",
        "\n",
        "ball1 = np.array([[1],[2],[3]])\n",
        "ball2 = np.array([0,1,-1])\n",
        "\n",
        "print(ball1)\n"
      ]
    },
    {
      "cell_type": "code",
      "source": [
        "import numpy as np\n",
        "\n",
        "ball1 = np.array([1,2,3])\n",
        "ball2 = np.array([0,1,-1])\n",
        "\n",
        "print(ball1)\n",
        "print(ball2)\n",
        "\n",
        "x = np.shape(ball1)\n",
        "y = np.shape(ball2)\n",
        "z = (x + y)\n",
        "\n",
        "print(z)\n",
        "\n",
        "q = np.ndim(x)\n",
        "w = np.ndim(y)\n",
        "\n",
        "print(q)\n",
        "print(w)\n"
      ],
      "metadata": {
        "colab": {
          "base_uri": "https://localhost:8080/"
        },
        "id": "Eqdlxdak2c3W",
        "outputId": "5656410a-531d-452b-f24a-08d46556482f"
      },
      "execution_count": 3,
      "outputs": [
        {
          "output_type": "stream",
          "name": "stdout",
          "text": [
            "[1 2 3]\n",
            "[ 0  1 -1]\n",
            "(3, 3)\n",
            "1\n",
            "1\n"
          ]
        }
      ]
    },
    {
      "cell_type": "code",
      "source": [
        "Operations of Vector Spaces"
      ],
      "metadata": {
        "id": "Foh3Q8ih3EIO"
      },
      "execution_count": null,
      "outputs": []
    },
    {
      "cell_type": "code",
      "source": [
        "#Addition\n",
        "import numpy as np\n",
        "\n",
        "A = np.array([4, 3])\n",
        "B = np.array([2,-5])\n",
        "\n",
        "R1 = A + B\n",
        "R2 = np.add(A, B)\n",
        "print(R1, R2)"
      ],
      "metadata": {
        "id": "gS2uWd5s2fSG"
      },
      "execution_count": null,
      "outputs": []
    },
    {
      "cell_type": "code",
      "source": [
        "#Subtraction\n",
        "\n",
        "import numpy as np\n",
        "A = np.array([4, 3])\n",
        "B = np.array([2,-5])\n",
        "\n",
        "R1 = A - B\n",
        "R2 = np.subtract(A, B)\n",
        "print(R1, R2)\n",
        "R3 = np.subtract(B, A)\n",
        "print(R3)"
      ],
      "metadata": {
        "colab": {
          "base_uri": "https://localhost:8080/"
        },
        "id": "AHqoNGSN2hlu",
        "outputId": "980b03d1-cef8-4382-9916-0bf6ec4ceba2"
      },
      "execution_count": 4,
      "outputs": [
        {
          "output_type": "stream",
          "name": "stdout",
          "text": [
            "[2 8] [2 8]\n",
            "[-2 -8]\n"
          ]
        }
      ]
    },
    {
      "cell_type": "code",
      "source": [
        "#Multiplication\n",
        "\n",
        "import numpy as np\n",
        "\n",
        "A = np.array([4, 3])\n",
        "B = np.array([2,-5])\n",
        "\n",
        "R1 = A * B\n",
        "R2 = np.multiply(A, B)\n",
        "print(R1, R2)"
      ],
      "metadata": {
        "colab": {
          "base_uri": "https://localhost:8080/"
        },
        "id": "eriTM-AF2kp1",
        "outputId": "0c997069-b0ea-4a84-a4d0-ca8dfeb6b54e"
      },
      "execution_count": 9,
      "outputs": [
        {
          "output_type": "stream",
          "name": "stdout",
          "text": [
            "[  8 -15] [  8 -15]\n"
          ]
        }
      ]
    },
    {
      "cell_type": "code",
      "source": [
        "#Scalar\n",
        "import numpy as np\n",
        "\n",
        "A = np.array([4, 3])\n",
        "B = np.array([2,-5])\n",
        "\n",
        "S = np.array([2])\n",
        "T = S*A\n",
        "\n",
        "print(T)"
      ],
      "metadata": {
        "colab": {
          "base_uri": "https://localhost:8080/"
        },
        "id": "GWPLIAZy2muW",
        "outputId": "555e78ca-6e69-44c4-93a7-1fcc97b29dbb"
      },
      "execution_count": 8,
      "outputs": [
        {
          "output_type": "stream",
          "name": "stdout",
          "text": [
            "[8 6]\n"
          ]
        }
      ]
    },
    {
      "cell_type": "code",
      "source": [
        "#Dot Product\n",
        "import numpy as np\n",
        "\n",
        "A = np.array([4, 3])\n",
        "B = np.array([2,-5])\n",
        "\n",
        "B = B.reshape(2,1)\n",
        "C = np.multiply(A,B)\n",
        "print(C)"
      ],
      "metadata": {
        "colab": {
          "base_uri": "https://localhost:8080/"
        },
        "id": "3RWby10r2oXO",
        "outputId": "0114e484-ab03-4e57-b912-a07d80d448d5"
      },
      "execution_count": 7,
      "outputs": [
        {
          "output_type": "stream",
          "name": "stdout",
          "text": [
            "[[  8   6]\n",
            " [-20 -15]]\n"
          ]
        }
      ]
    },
    {
      "cell_type": "markdown",
      "source": [
        "Matrix Property"
      ],
      "metadata": {
        "id": "NP4tPOHv3IN-"
      }
    },
    {
      "cell_type": "code",
      "source": [
        "#Identity Matrix\n",
        "import numpy as np\n",
        "\n",
        "c = np.eye(3,3)\n",
        "print(c)\n",
        "\n",
        "#All diagonals are 1"
      ],
      "metadata": {
        "colab": {
          "base_uri": "https://localhost:8080/"
        },
        "id": "sqImD1yu2qu2",
        "outputId": "3779b238-0dce-4b18-f0c3-39b7107c8f49"
      },
      "execution_count": 6,
      "outputs": [
        {
          "output_type": "stream",
          "name": "stdout",
          "text": [
            "[[1. 0. 0.]\n",
            " [0. 1. 0.]\n",
            " [0. 0. 1.]]\n"
          ]
        }
      ]
    },
    {
      "cell_type": "code",
      "source": [
        "#Zero Matrix\n",
        "\n",
        "d = np.zeros([5,5])\n",
        "print(d)"
      ],
      "metadata": {
        "colab": {
          "base_uri": "https://localhost:8080/"
        },
        "id": "cbQHpEVP2rNO",
        "outputId": "b37d8df1-172b-4042-b053-8f6550c5abaf"
      },
      "execution_count": 5,
      "outputs": [
        {
          "output_type": "stream",
          "name": "stdout",
          "text": [
            "[[0. 0. 0. 0. 0.]\n",
            " [0. 0. 0. 0. 0.]\n",
            " [0. 0. 0. 0. 0.]\n",
            " [0. 0. 0. 0. 0.]\n",
            " [0. 0. 0. 0. 0.]]\n"
          ]
        }
      ]
    },
    {
      "cell_type": "code",
      "source": [
        "#Full Matrix\n",
        "\n",
        "e = np.full((3,3), 69)\n",
        "print(e)"
      ],
      "metadata": {
        "id": "xtk1Ppix2vJt"
      },
      "execution_count": null,
      "outputs": []
    },
    {
      "cell_type": "code",
      "source": [
        "#Transpose Matrix\n",
        "\n",
        "f = np.transpose(C)\n",
        "print(f)"
      ],
      "metadata": {
        "id": "N1aA5E9Q2yM1"
      },
      "execution_count": null,
      "outputs": []
    }
  ]
}