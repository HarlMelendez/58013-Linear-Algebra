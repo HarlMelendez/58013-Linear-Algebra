{
  "nbformat": 4,
  "nbformat_minor": 0,
  "metadata": {
    "colab": {
      "provenance": [],
      "authorship_tag": "ABX9TyPKEN2t7FX5xti8LaIydRNE",
      "include_colab_link": true
    },
    "kernelspec": {
      "name": "python3",
      "display_name": "Python 3"
    },
    "language_info": {
      "name": "python"
    }
  },
  "cells": [
    {
      "cell_type": "markdown",
      "metadata": {
        "id": "view-in-github",
        "colab_type": "text"
      },
      "source": [
        "<a href=\"https://colab.research.google.com/github/HarlMelendez/58013-Linear-Algebra/blob/main/Python_Exercise_1.ipynb\" target=\"_parent\"><img src=\"https://colab.research.google.com/assets/colab-badge.svg\" alt=\"Open In Colab\"/></a>"
      ]
    },
    {
      "cell_type": "markdown",
      "source": [
        "Variable and Data Types"
      ],
      "metadata": {
        "id": "rYFgISSZQ6F7"
      }
    },
    {
      "cell_type": "code",
      "execution_count": 2,
      "metadata": {
        "colab": {
          "base_uri": "https://localhost:8080/"
        },
        "id": "Mj3jnBFuQNoA",
        "outputId": "3d3990b5-e3fc-4aae-81bc-15e165ed8d94"
      },
      "outputs": [
        {
          "output_type": "execute_result",
          "data": {
            "text/plain": [
              "0"
            ]
          },
          "metadata": {},
          "execution_count": 2
        }
      ],
      "source": [
        "x = 1\n",
        "a,b = 0, -1\n",
        "\n",
        "type(x)\n",
        "\n",
        "y = 1.0\n",
        "type(y)\n",
        "\n",
        "x = float(x)\n",
        "type(x)\n",
        "\n",
        "s,t,u = \"0\", '1', 'one'\n",
        "type(s)\n",
        "\n",
        "s_int = int(s)\n",
        "s_int"
      ]
    },
    {
      "cell_type": "markdown",
      "source": [
        "Arithmetic Operations"
      ],
      "metadata": {
        "id": "iLckcOCcRKbz"
      }
    },
    {
      "cell_type": "code",
      "source": [
        "a,b,c,d = 2.0, -0.5, 0, -32\n",
        "### Addition\n",
        "S = a+b\n",
        "S\n",
        "\n",
        "### Subtraction\n",
        "D = b-d\n",
        "D\n",
        "\n",
        "### Multiplication\n",
        "P = a*d\n",
        "P\n",
        "\n",
        "### Division\n",
        "Q = c/a\n",
        "Q\n",
        "\n",
        "### Exponentiation\n",
        "E = a**b\n",
        "E\n",
        "\n",
        "### Modulo\n",
        "mod = d%a\n",
        "mod\n"
      ],
      "metadata": {
        "colab": {
          "base_uri": "https://localhost:8080/"
        },
        "id": "t-eDCmjsRMcS",
        "outputId": "c7466370-20ae-4310-abce-48249bbc65e0"
      },
      "execution_count": 4,
      "outputs": [
        {
          "output_type": "execute_result",
          "data": {
            "text/plain": [
              "0.0"
            ]
          },
          "metadata": {},
          "execution_count": 4
        }
      ]
    },
    {
      "cell_type": "markdown",
      "source": [
        "Assignment Operations"
      ],
      "metadata": {
        "id": "12vQa55bRazu"
      }
    },
    {
      "cell_type": "code",
      "source": [
        "G, H, J, K = 0, 100, 2, 2\n",
        "\n",
        "G += a\n",
        "G\n",
        "\n",
        "H -= d\n",
        "\n",
        "J *= 2\n",
        "J\n",
        "\n",
        "K **= 2\n",
        "K\n"
      ],
      "metadata": {
        "colab": {
          "base_uri": "https://localhost:8080/"
        },
        "id": "f1EOoIFTRjiX",
        "outputId": "636aa13e-a270-4bb5-c04f-8301f7434c13"
      },
      "execution_count": 5,
      "outputs": [
        {
          "output_type": "execute_result",
          "data": {
            "text/plain": [
              "4"
            ]
          },
          "metadata": {},
          "execution_count": 5
        }
      ]
    },
    {
      "cell_type": "markdown",
      "source": [
        "Comparators\n"
      ],
      "metadata": {
        "id": "YwluJ-85Rqyv"
      }
    },
    {
      "cell_type": "code",
      "source": [
        "res_1, res_2, res_3 = 1, 2.0, \"1\"\n",
        "true_val = 1.0\n",
        "\n",
        "## Equality\n",
        "res_1 == true_val\n",
        "\n",
        "## Non-equality\n",
        "res_2 != true_val\n",
        "\n",
        "## Inequality\n",
        "t1 = res_1 > res_2\n",
        "t2 = res_1 < res_2/2\n",
        "t3 = res_1 >= res_2/2\n",
        "t4 = res_1 <= res_2\n",
        "t1\n"
      ],
      "metadata": {
        "colab": {
          "base_uri": "https://localhost:8080/"
        },
        "id": "d3W2sKGsRsDG",
        "outputId": "1fd6c596-8f6c-454c-9680-3015652ae454"
      },
      "execution_count": 6,
      "outputs": [
        {
          "output_type": "execute_result",
          "data": {
            "text/plain": [
              "False"
            ]
          },
          "metadata": {},
          "execution_count": 6
        }
      ]
    },
    {
      "cell_type": "markdown",
      "source": [
        "Logical"
      ],
      "metadata": {
        "id": "b8QoYxigRvKQ"
      }
    },
    {
      "cell_type": "code",
      "source": [
        "res_1 == true_val\n",
        "\n",
        "res_1 is true_val\n",
        "\n",
        "res_1 is not true_val\n",
        "\n",
        "p, q = True, False\n",
        "conj = p and q\n",
        "conj\n",
        "\n",
        "p, q = True, False\n",
        "disj = p or q\n",
        "disj\n",
        "\n",
        "\n",
        "p, q = True, False\n",
        "nand = not(p and q)\n",
        "nand\n",
        "\n",
        "p, q = True, False\n",
        "xor = (not p and q) or (p and not q)\n",
        "xor\n"
      ],
      "metadata": {
        "colab": {
          "base_uri": "https://localhost:8080/"
        },
        "id": "ZohJqhO1Rv6r",
        "outputId": "d0b98828-e51f-49e8-9ece-540ef0119235"
      },
      "execution_count": 7,
      "outputs": [
        {
          "output_type": "execute_result",
          "data": {
            "text/plain": [
              "True"
            ]
          },
          "metadata": {},
          "execution_count": 7
        }
      ]
    },
    {
      "cell_type": "markdown",
      "source": [
        "Input and Output Operations"
      ],
      "metadata": {
        "id": "bM1RyplURykz"
      }
    },
    {
      "cell_type": "code",
      "source": [
        "print(\"Hello World\")\n",
        "\n",
        "cnt = 1\n",
        "\n",
        "string = \"Hello World\"\n",
        "print(string, \", Current run count is:\", cnt)\n",
        "cnt += 1\n",
        "\n",
        "print(f\"{string}, Current count is: {cnt}\")\n",
        "\n",
        "sem_grade = 82.243564657461234\n",
        "name = \"\"\n",
        "print(\"Hello {}, your semestral grade is: {}\".format(name, sem_grade))\n",
        "\n",
        "w_pg, w_mg, w_fg = 0.3, 0.3, 0.4\n",
        "print(\"The weights of your semestral grades are:\\\n",
        "\\n\\t{:.2%} for Prelims\\\n",
        "\\n\\t{:.2%} for Midterms, and\\\n",
        "\\n\\t{:.2%} for Finals.\".format(w_pg, w_mg, w_fg))\n",
        "\n",
        "x = input(\"enter a number: \")\n",
        "x\n",
        "\n",
        "name = input(\"Kimi no nawa: \")\n",
        "pg = input(\"Enter prelim grade: \")\n",
        "mg = input(\"Enter midterm grade: \")\n",
        "fg = input(\"Enter finals grade: \")\n",
        "sem_grade = None\n",
        "print(\"Hello {}, your semestral grade is: {}\".format(name, sem_grade))\n"
      ],
      "metadata": {
        "colab": {
          "base_uri": "https://localhost:8080/"
        },
        "id": "tuzrRvsAR1WE",
        "outputId": "5e791335-5bd0-495f-c7f1-430ca5d73e85"
      },
      "execution_count": 8,
      "outputs": [
        {
          "output_type": "stream",
          "name": "stdout",
          "text": [
            "Hello World\n",
            "Hello World , Current run count is: 1\n",
            "Hello World, Current count is: 2\n",
            "Hello , your semestral grade is: 82.24356465746123\n",
            "The weights of your semestral grades are:\n",
            "\t30.00% for Prelims\n",
            "\t30.00% for Midterms, and\n",
            "\t40.00% for Finals.\n",
            "enter a number: 97\n",
            "Kimi no nawa: harl\n",
            "Enter prelim grade: da\n",
            "Enter midterm grade: 90\n",
            "Enter finals grade: 90\n",
            "Hello harl, your semestral grade is: None\n"
          ]
        }
      ]
    },
    {
      "cell_type": "markdown",
      "source": [
        "Looping Statements"
      ],
      "metadata": {
        "id": "qgaXM6FUR8do"
      }
    },
    {
      "cell_type": "code",
      "source": [
        "## while loops\n",
        "i, j = 0, 10\n",
        "while(i<=j):\n",
        "    print(f\"{i}\\t|\\t{j}\")\n",
        "    i+=1\n",
        "\n",
        "# for(int i=0; i<10; i++){\n",
        "# printf(i)\n",
        "# }\n",
        "\n",
        "i=0\n",
        "for i in range(10):\n",
        "    print(i)\n"
      ],
      "metadata": {
        "colab": {
          "base_uri": "https://localhost:8080/"
        },
        "id": "fU0_tD3oR-fk",
        "outputId": "887fba96-07d6-4e4f-ea5f-97689d788fea"
      },
      "execution_count": 10,
      "outputs": [
        {
          "output_type": "stream",
          "name": "stdout",
          "text": [
            "0\t|\t10\n",
            "1\t|\t10\n",
            "2\t|\t10\n",
            "3\t|\t10\n",
            "4\t|\t10\n",
            "5\t|\t10\n",
            "6\t|\t10\n",
            "7\t|\t10\n",
            "8\t|\t10\n",
            "9\t|\t10\n",
            "10\t|\t10\n",
            "0\n",
            "1\n",
            "2\n",
            "3\n",
            "4\n",
            "5\n",
            "6\n",
            "7\n",
            "8\n",
            "9\n"
          ]
        }
      ]
    },
    {
      "cell_type": "markdown",
      "source": [
        "Flow Control"
      ],
      "metadata": {
        "id": "wUQYMxKZR_9v"
      }
    },
    {
      "cell_type": "code",
      "source": [
        "###Condition Statements\n",
        "numeral1, numeral2 = 12, 12\n",
        "if(numeral1 == numeral2):\n",
        "     print(\"Yey\")\n",
        "elif(numeral1>numeral2):\n",
        "     print(\"Hoho\")\n",
        "else:\n",
        "     print(\"Aww\")\n",
        "print(\"Hip hip\")\n"
      ],
      "metadata": {
        "colab": {
          "base_uri": "https://localhost:8080/"
        },
        "id": "9AJ9CZQeSBr1",
        "outputId": "1f8c672e-ccb3-4b24-e401-006df0f985f0"
      },
      "execution_count": 9,
      "outputs": [
        {
          "output_type": "stream",
          "name": "stdout",
          "text": [
            "Yey\n",
            "Hip hip\n"
          ]
        }
      ]
    },
    {
      "cell_type": "markdown",
      "source": [
        "Functions"
      ],
      "metadata": {
        "id": "kksKEHaWSTIp"
      }
    },
    {
      "cell_type": "code",
      "source": [
        "# void DeleteUser(int userid){\n",
        "#     delete(userid);\n",
        "# }\n",
        "\n",
        "def delete_user (userid):\n",
        "     print(\"Successfully deleted user: {}\".format(userid))\n",
        "\n",
        "def delete_all_users ():\n",
        "     print(\"Successfully deleted all users\")\n"
      ],
      "metadata": {
        "id": "k5XAVzW4ST7J"
      },
      "execution_count": 13,
      "outputs": []
    }
  ]
}