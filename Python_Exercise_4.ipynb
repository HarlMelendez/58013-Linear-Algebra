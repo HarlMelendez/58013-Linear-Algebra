{
  "nbformat": 4,
  "nbformat_minor": 0,
  "metadata": {
    "colab": {
      "provenance": [],
      "authorship_tag": "ABX9TyPAvrIAh7GN3wVCbT99uWBD",
      "include_colab_link": true
    },
    "kernelspec": {
      "name": "python3",
      "display_name": "Python 3"
    },
    "language_info": {
      "name": "python"
    }
  },
  "cells": [
    {
      "cell_type": "markdown",
      "metadata": {
        "id": "view-in-github",
        "colab_type": "text"
      },
      "source": [
        "<a href=\"https://colab.research.google.com/github/HarlMelendez/58013-Linear-Algebra/blob/main/Python_Exercise_4.ipynb\" target=\"_parent\"><img src=\"https://colab.research.google.com/assets/colab-badge.svg\" alt=\"Open In Colab\"/></a>"
      ]
    },
    {
      "cell_type": "code",
      "execution_count": 1,
      "metadata": {
        "colab": {
          "base_uri": "https://localhost:8080/"
        },
        "id": "RRohQYIqG-35",
        "outputId": "3d5c9a09-20ac-40d9-95f1-fe59ba11fec4"
      },
      "outputs": [
        {
          "output_type": "stream",
          "name": "stdout",
          "text": [
            "A + B = [-0.6  4.5  1.6]\n",
            "A - C = [-0.6  2.2  2.1]\n",
            "B ⋅ C = -1.12\n",
            "A × B = [4.18 0.28 0.78]\n"
          ]
        }
      ],
      "source": [
        "import numpy as np\n",
        "\n",
        "A = np.array([-0.4, 4.3, 0.6])\n",
        "B = np.array([-0.2, 0.2, 1.0])\n",
        "C = np.array([0.2, 2.1, -1.5])\n",
        "\n",
        "result_addition = A + B\n",
        "print(\"A + B =\", result_addition)\n",
        "\n",
        "result_subtraction = A - C\n",
        "print(\"A - C =\", result_subtraction)\n",
        "\n",
        "result_dot_product = np.dot(B, C)\n",
        "print(\"B ⋅ C =\", result_dot_product)\n",
        "\n",
        "result_cross_product = np.cross(A, B)\n",
        "print(\"A × B =\", result_cross_product)"
      ]
    }
  ]
}