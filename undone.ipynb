{
  "nbformat": 4,
  "nbformat_minor": 0,
  "metadata": {
    "colab": {
      "provenance": [],
      "authorship_tag": "ABX9TyOVkacWp3Zl6z1UpZTXLy/9",
      "include_colab_link": true
    },
    "kernelspec": {
      "name": "python3",
      "display_name": "Python 3"
    },
    "language_info": {
      "name": "python"
    }
  },
  "cells": [
    {
      "cell_type": "markdown",
      "metadata": {
        "id": "view-in-github",
        "colab_type": "text"
      },
      "source": [
        "<a href=\"https://colab.research.google.com/github/HarlMelendez/58013-Linear-Algebra/blob/main/undone.ipynb\" target=\"_parent\"><img src=\"https://colab.research.google.com/assets/colab-badge.svg\" alt=\"Open In Colab\"/></a>"
      ]
    },
    {
      "cell_type": "code",
      "execution_count": 2,
      "metadata": {
        "colab": {
          "base_uri": "https://localhost:8080/"
        },
        "id": "zaKMzGql76ov",
        "outputId": "992ceb0a-d5df-4e66-b52a-e0ee9e74d615"
      },
      "outputs": [
        {
          "output_type": "execute_result",
          "data": {
            "text/plain": [
              "-235.0000000000002"
            ]
          },
          "metadata": {},
          "execution_count": 2
        }
      ],
      "source": [
        "import numpy as np\n",
        "import matplotlib.pyplot as plt\n",
        "%matplotlib inline\n",
        "\n",
        "A = np.array([\n",
        "    [1,4],\n",
        "    [0,3]\n",
        "])\n",
        "np.linalg.det(A)"
      ]
    },
    {
      "cell_type": "code",
      "source": [
        "B = np.array([\n",
        "    [1,3,5,6],\n",
        "    [0,3,1,3],\n",
        "    [3,1,8,2],\n",
        "    [5,2,6,8]\n",
        "])\n",
        "np.linalg.det(B)"
      ],
      "metadata": {
        "colab": {
          "base_uri": "https://localhost:8080/"
        },
        "id": "xGi8tI8n8jUp",
        "outputId": "916ce345-001d-435b-cc4c-5c599d8c1e04"
      },
      "execution_count": 3,
      "outputs": [
        {
          "output_type": "execute_result",
          "data": {
            "text/plain": [
              "-235.0000000000002"
            ]
          },
          "metadata": {},
          "execution_count": 3
        }
      ]
    },
    {
      "cell_type": "markdown",
      "source": [
        "Associative Multiplication Property"
      ],
      "metadata": {
        "id": "r5zd-5r5BE9A"
      }
    },
    {
      "cell_type": "code",
      "source": [
        "import numpy as np\n",
        "\n",
        "A = np.array([[1, 2, 3],\n",
        "              [9, 8, 7],\n",
        "              [5, 6, 4]])\n",
        "\n",
        "B = np.array([[9, 8, 7],\n",
        "              [5, 6, 4],\n",
        "              [1, 2, 3]])\n",
        "\n",
        "C = np.array([[5, 6, 4],\n",
        "              [1, 2, 3],\n",
        "              [9, 8, 7]])\n",
        "\n",
        "Asso1 = np.dot(np.dot(A, B), C)\n",
        "\n",
        "Asso2 = np.dot(A, np.dot(B, C))\n",
        "\n",
        "if np.array_equal(left_associative, right_associative):\n",
        "    print(\"Associative property holds for matrix multiplication.\")\n",
        "    print(\"(A * B) * C =\")\n",
        "    print(Asso1)\n",
        "    print(\"A * (B * C) =\")\n",
        "    print(Asso2)"
      ],
      "metadata": {
        "colab": {
          "base_uri": "https://localhost:8080/"
        },
        "id": "bdiqKzFkBEWX",
        "outputId": "e544b403-80ca-4494-d348-a931355f7ce9"
      },
      "execution_count": 7,
      "outputs": [
        {
          "output_type": "stream",
          "name": "stdout",
          "text": [
            "Associative property holds for matrix multiplication.\n",
            "(A * B) * C =\n",
            "[[ 352  376  334]\n",
            " [1818 1964 1726]\n",
            " [1118 1210 1065]]\n",
            "A * (B * C) =\n",
            "[[ 352  376  334]\n",
            " [1818 1964 1726]\n",
            " [1118 1210 1065]]\n"
          ]
        }
      ]
    }
  ]
}