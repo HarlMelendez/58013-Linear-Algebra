{
  "nbformat": 4,
  "nbformat_minor": 0,
  "metadata": {
    "colab": {
      "provenance": [],
      "authorship_tag": "ABX9TyOoYOT47cuzzTVyjEd78WIt",
      "include_colab_link": true
    },
    "kernelspec": {
      "name": "python3",
      "display_name": "Python 3"
    },
    "language_info": {
      "name": "python"
    }
  },
  "cells": [
    {
      "cell_type": "markdown",
      "metadata": {
        "id": "view-in-github",
        "colab_type": "text"
      },
      "source": [
        "<a href=\"https://colab.research.google.com/github/HarlMelendez/58013-Linear-Algebra/blob/main/Python_Exercise_5.ipynb\" target=\"_parent\"><img src=\"https://colab.research.google.com/assets/colab-badge.svg\" alt=\"Open In Colab\"/></a>"
      ]
    },
    {
      "cell_type": "markdown",
      "source": [
        "We can do this in numpy through:"
      ],
      "metadata": {
        "id": "CpgXYD2lBHlm"
      }
    },
    {
      "cell_type": "code",
      "execution_count": 2,
      "metadata": {
        "colab": {
          "base_uri": "https://localhost:8080/"
        },
        "id": "XvmTMvQW_bAl",
        "outputId": "99ae623d-ad0f-4c33-cc02-8f1422d5a186"
      },
      "outputs": [
        {
          "output_type": "execute_result",
          "data": {
            "text/plain": [
              "array([ 5, 25, 40, 45])"
            ]
          },
          "metadata": {},
          "execution_count": 2
        }
      ],
      "source": [
        "import numpy as np\n",
        "A = np.array([1,5,8,9])\n",
        "S = 5*A\n",
        "S\n",
        "\n",
        "S = np.multiply(5,A)\n",
        "S\n"
      ]
    },
    {
      "cell_type": "markdown",
      "source": [
        "Dot Product\n",
        "\n",
        "\tPython provides a very efficient method to calculate the dot product of two vectors. By using numpy.dot() method, which is available in the Numpy module.\n"
      ],
      "metadata": {
        "id": "lUGVTTaoBI_T"
      }
    },
    {
      "cell_type": "code",
      "source": [
        "import numpy as np\n",
        "a = [5, 10, 2]\n",
        "b = [2, 4, 3]\n",
        "dotproduct = np.dot(a,b)\n",
        "print('Dot product is:', dotproduct)\n"
      ],
      "metadata": {
        "colab": {
          "base_uri": "https://localhost:8080/"
        },
        "id": "2xNoyI-E_6L8",
        "outputId": "d99ecc0b-620e-45a3-a73c-b810a75b01d4"
      },
      "execution_count": 4,
      "outputs": [
        {
          "output_type": "stream",
          "name": "stdout",
          "text": [
            "Dot product is: 56\n"
          ]
        }
      ]
    },
    {
      "cell_type": "markdown",
      "source": [
        "Cross Product\n",
        "\n",
        "\tTo find the cross product of two vectors, we will use numpy cross() function.\n"
      ],
      "metadata": {
        "id": "TKIyOBulBOoE"
      }
    },
    {
      "cell_type": "code",
      "source": [
        "import numpy as np\n",
        "p = [4, 2]\n",
        "q = [5, 6]\n",
        "product = np.cross(p,q)\n",
        "print(product)\n"
      ],
      "metadata": {
        "colab": {
          "base_uri": "https://localhost:8080/"
        },
        "id": "IqMNprYc_6e0",
        "outputId": "747bde0b-a4ac-42bd-a78d-ef0854bcf97d"
      },
      "execution_count": 5,
      "outputs": [
        {
          "output_type": "stream",
          "name": "stdout",
          "text": [
            "14\n"
          ]
        }
      ]
    }
  ]
}