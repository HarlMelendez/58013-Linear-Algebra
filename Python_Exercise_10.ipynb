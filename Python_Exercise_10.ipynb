{
  "nbformat": 4,
  "nbformat_minor": 0,
  "metadata": {
    "colab": {
      "provenance": [],
      "authorship_tag": "ABX9TyNXssEI+ZCzsk2WSry3HkTn",
      "include_colab_link": true
    },
    "kernelspec": {
      "name": "python3",
      "display_name": "Python 3"
    },
    "language_info": {
      "name": "python"
    }
  },
  "cells": [
    {
      "cell_type": "markdown",
      "metadata": {
        "id": "view-in-github",
        "colab_type": "text"
      },
      "source": [
        "<a href=\"https://colab.research.google.com/github/HarlMelendez/58013-Linear-Algebra/blob/main/Python_Exercise_10.ipynb\" target=\"_parent\"><img src=\"https://colab.research.google.com/assets/colab-badge.svg\" alt=\"Open In Colab\"/></a>"
      ]
    },
    {
      "cell_type": "code",
      "source": [
        "import numpy as np\n",
        "\n",
        "X = np.array([[1,1,1],[3,-2,-1],[-1,4,2]], dtype=float)\n",
        "Y = np.array([[1],[4],[-3]],dtype=float)\n",
        "\n",
        "print(X)\n",
        "print(X.shape)\n",
        "print(Y)\n",
        "print(Y.shape)"
      ],
      "metadata": {
        "colab": {
          "base_uri": "https://localhost:8080/"
        },
        "id": "WNpM85lWSDvb",
        "outputId": "e388833a-1982-4489-fe59-448954e03da3"
      },
      "execution_count": 23,
      "outputs": [
        {
          "output_type": "stream",
          "name": "stdout",
          "text": [
            "[[ 1.  1.  1.]\n",
            " [ 3. -2. -1.]\n",
            " [-1.  4.  2.]]\n",
            "(3, 3)\n",
            "[[ 1.]\n",
            " [ 4.]\n",
            " [-3.]]\n",
            "(3, 1)\n"
          ]
        }
      ]
    },
    {
      "cell_type": "code",
      "source": [
        "import numpy as np\n",
        "\n",
        "month1 = np.array([30, 10, 120, 12500], dtype=float)\n",
        "month2 = np.array([40, 20, 200, 18000], dtype=float)\n",
        "month3 = np.array([50, 40, 360, 25700], dtype=float)\n",
        "\n",
        "prices = np.linalg.solve([month1[:-1], month2[:-1], month3[:-1]], [month1[-1], month2[-1], month3[-1]])\n",
        "\n",
        "flour_price, yeast_price, egg_price = prices\n",
        "print(\"Price of flour per sack:\", int(flour_price), \"pesos\")\n",
        "print(\"Price of yeast per pack:\", int(yeast_price), \"pesos\")\n",
        "print(\"Price of one egg:\", int(egg_price), \"pesos\")"
      ],
      "metadata": {
        "colab": {
          "base_uri": "https://localhost:8080/"
        },
        "id": "3AWRN2zOC6zF",
        "outputId": "9b33c1ef-945e-40d3-cefe-38958a27dcfb"
      },
      "execution_count": 21,
      "outputs": [
        {
          "output_type": "stream",
          "name": "stdout",
          "text": [
            "Price of flour per sack: 330 pesos\n",
            "Price of yeast per pack: 139 pesos\n",
            "Price of one egg: 10 pesos\n"
          ]
        }
      ]
    }
  ]
}